{
 "cells": [
  {
   "cell_type": "code",
   "execution_count": 38,
   "metadata": {},
   "outputs": [
    {
     "name": "stdout",
     "output_type": "stream",
     "text": [
      "        user_id        date  quantity     fluid_type\n",
      "0   0         1  2023-01-01       500          water\n",
      "1   1         1  2023-01-01       200           milk\n",
      "2   2         1  2023-01-01       300          juice\n",
      "3   3         1  2023-01-01       100            tea\n",
      "4  4         1  2023-01-01       150  sparkling_w...\n",
      "5  5         1  2023-01-01       250          coffee\n",
      "6   6         1  2023-01-01       350          water\n",
      "7  7         2  2023-01-01       700          coffee\n",
      "8   8         2  2023-01-01       250          water\n",
      "9   9         2  2023-01-01       400          juice\n"
     ]
    }
   ],
   "source": [
    "import pandas as pd\n",
    "from sklearn.linear_model import LinearRegression\n",
    "from sklearn.preprocessing import OneHotEncoder, StandardScaler\n",
    "from sklearn.compose import ColumnTransformer\n",
    "from sklearn.model_selection import train_test_split\n",
    "from sklearn.metrics import mean_squared_error\n",
    "\n",
    "df = pd.read_csv(\"woda.csv\")\n",
    "first_10 = df.head(10)\n",
    "print(first_10)\n"
   ]
  },
  {
   "cell_type": "code",
   "execution_count": null,
   "metadata": {},
   "outputs": [],
   "source": []
  }
 ],
 "metadata": {
  "interpreter": {
   "hash": "0d591c6e422414675974e227c13f5382000c440fedd3c5006ef2be5d887f0ba7"
  },
  "kernelspec": {
   "display_name": "Python 3.9.5 64-bit",
   "language": "python",
   "name": "python3"
  },
  "language_info": {
   "codemirror_mode": {
    "name": "ipython",
    "version": 3
   },
   "file_extension": ".py",
   "mimetype": "text/x-python",
   "name": "python",
   "nbconvert_exporter": "python",
   "pygments_lexer": "ipython3",
   "version": "3.9.5"
  },
  "orig_nbformat": 4
 },
 "nbformat": 4,
 "nbformat_minor": 2
}
